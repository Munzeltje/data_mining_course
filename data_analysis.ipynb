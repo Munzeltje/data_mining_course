{
 "cells": [
  {
   "cell_type": "markdown",
   "id": "28210ed2",
   "metadata": {},
   "source": [
    "### Imports ###"
   ]
  },
  {
   "cell_type": "code",
   "execution_count": 1,
   "id": "3644e8e3",
   "metadata": {},
   "outputs": [],
   "source": [
    "import pandas as pd"
   ]
  },
  {
   "cell_type": "markdown",
   "id": "cb325a21",
   "metadata": {},
   "source": [
    "### Read data and get some statistics ###"
   ]
  },
  {
   "cell_type": "code",
   "execution_count": 5,
   "id": "2d9959bc",
   "metadata": {},
   "outputs": [
    {
     "name": "stdout",
     "output_type": "stream",
     "text": [
      "id                  object\n",
      "time        datetime64[ns]\n",
      "variable            object\n",
      "value              float64\n",
      "dtype: object\n"
     ]
    }
   ],
   "source": [
    "df_phone = pd.read_csv('dataset_mood_smartphone.csv', usecols=['id', 'time', 'variable', 'value'])\n",
    "df_phone['time'] = pd.to_datetime(df_phone['time'])\n",
    "print(df_phone.dtypes)"
   ]
  },
  {
   "cell_type": "code",
   "execution_count": 6,
   "id": "c67dbec2",
   "metadata": {},
   "outputs": [
    {
     "name": "stdout",
     "output_type": "stream",
     "text": [
      "<class 'pandas.core.frame.DataFrame'>\n",
      "RangeIndex: 376912 entries, 0 to 376911\n",
      "Data columns (total 4 columns):\n",
      " #   Column    Non-Null Count   Dtype         \n",
      "---  ------    --------------   -----         \n",
      " 0   id        376912 non-null  object        \n",
      " 1   time      376912 non-null  datetime64[ns]\n",
      " 2   variable  376912 non-null  object        \n",
      " 3   value     376710 non-null  float64       \n",
      "dtypes: datetime64[ns](1), float64(1), object(2)\n",
      "memory usage: 11.5+ MB\n"
     ]
    }
   ],
   "source": [
    "df_phone.info()"
   ]
  },
  {
   "cell_type": "code",
   "execution_count": 3,
   "id": "06deefed",
   "metadata": {},
   "outputs": [
    {
     "data": {
      "text/html": [
       "<div>\n",
       "<style scoped>\n",
       "    .dataframe tbody tr th:only-of-type {\n",
       "        vertical-align: middle;\n",
       "    }\n",
       "\n",
       "    .dataframe tbody tr th {\n",
       "        vertical-align: top;\n",
       "    }\n",
       "\n",
       "    .dataframe thead th {\n",
       "        text-align: right;\n",
       "    }\n",
       "</style>\n",
       "<table border=\"1\" class=\"dataframe\">\n",
       "  <thead>\n",
       "    <tr style=\"text-align: right;\">\n",
       "      <th></th>\n",
       "      <th>id</th>\n",
       "      <th>time</th>\n",
       "      <th>variable</th>\n",
       "      <th>value</th>\n",
       "    </tr>\n",
       "  </thead>\n",
       "  <tbody>\n",
       "    <tr>\n",
       "      <th>count</th>\n",
       "      <td>376912</td>\n",
       "      <td>376912</td>\n",
       "      <td>376912</td>\n",
       "      <td>376710.000000</td>\n",
       "    </tr>\n",
       "    <tr>\n",
       "      <th>unique</th>\n",
       "      <td>27</td>\n",
       "      <td>NaN</td>\n",
       "      <td>19</td>\n",
       "      <td>NaN</td>\n",
       "    </tr>\n",
       "    <tr>\n",
       "      <th>top</th>\n",
       "      <td>AS14.01</td>\n",
       "      <td>NaN</td>\n",
       "      <td>screen</td>\n",
       "      <td>NaN</td>\n",
       "    </tr>\n",
       "    <tr>\n",
       "      <th>freq</th>\n",
       "      <td>21999</td>\n",
       "      <td>NaN</td>\n",
       "      <td>96578</td>\n",
       "      <td>NaN</td>\n",
       "    </tr>\n",
       "    <tr>\n",
       "      <th>mean</th>\n",
       "      <td>NaN</td>\n",
       "      <td>2014-04-16 05:01:16.959544064</td>\n",
       "      <td>NaN</td>\n",
       "      <td>40.665313</td>\n",
       "    </tr>\n",
       "    <tr>\n",
       "      <th>min</th>\n",
       "      <td>NaN</td>\n",
       "      <td>2014-02-17 07:00:52.197000</td>\n",
       "      <td>NaN</td>\n",
       "      <td>-82798.871000</td>\n",
       "    </tr>\n",
       "    <tr>\n",
       "      <th>25%</th>\n",
       "      <td>NaN</td>\n",
       "      <td>2014-04-03 15:00:00</td>\n",
       "      <td>NaN</td>\n",
       "      <td>2.025000</td>\n",
       "    </tr>\n",
       "    <tr>\n",
       "      <th>50%</th>\n",
       "      <td>NaN</td>\n",
       "      <td>2014-04-15 22:13:12.874500096</td>\n",
       "      <td>NaN</td>\n",
       "      <td>7.029000</td>\n",
       "    </tr>\n",
       "    <tr>\n",
       "      <th>75%</th>\n",
       "      <td>NaN</td>\n",
       "      <td>2014-04-27 19:25:38.207000064</td>\n",
       "      <td>NaN</td>\n",
       "      <td>29.356000</td>\n",
       "    </tr>\n",
       "    <tr>\n",
       "      <th>max</th>\n",
       "      <td>NaN</td>\n",
       "      <td>2014-06-09 00:00:00</td>\n",
       "      <td>NaN</td>\n",
       "      <td>33960.246000</td>\n",
       "    </tr>\n",
       "    <tr>\n",
       "      <th>std</th>\n",
       "      <td>NaN</td>\n",
       "      <td>NaN</td>\n",
       "      <td>NaN</td>\n",
       "      <td>273.726007</td>\n",
       "    </tr>\n",
       "  </tbody>\n",
       "</table>\n",
       "</div>"
      ],
      "text/plain": [
       "             id                           time variable          value\n",
       "count    376912                         376912   376912  376710.000000\n",
       "unique       27                            NaN       19            NaN\n",
       "top     AS14.01                            NaN   screen            NaN\n",
       "freq      21999                            NaN    96578            NaN\n",
       "mean        NaN  2014-04-16 05:01:16.959544064      NaN      40.665313\n",
       "min         NaN     2014-02-17 07:00:52.197000      NaN  -82798.871000\n",
       "25%         NaN            2014-04-03 15:00:00      NaN       2.025000\n",
       "50%         NaN  2014-04-15 22:13:12.874500096      NaN       7.029000\n",
       "75%         NaN  2014-04-27 19:25:38.207000064      NaN      29.356000\n",
       "max         NaN            2014-06-09 00:00:00      NaN   33960.246000\n",
       "std         NaN                            NaN      NaN     273.726007"
      ]
     },
     "execution_count": 3,
     "metadata": {},
     "output_type": "execute_result"
    }
   ],
   "source": [
    "df_phone.describe(datetime_is_numeric=True, include='all')"
   ]
  }
 ],
 "metadata": {
  "kernelspec": {
   "display_name": "Python 3",
   "language": "python",
   "name": "python3"
  },
  "language_info": {
   "codemirror_mode": {
    "name": "ipython",
    "version": 3
   },
   "file_extension": ".py",
   "mimetype": "text/x-python",
   "name": "python",
   "nbconvert_exporter": "python",
   "pygments_lexer": "ipython3",
   "version": "3.8.8"
  }
 },
 "nbformat": 4,
 "nbformat_minor": 5
}
