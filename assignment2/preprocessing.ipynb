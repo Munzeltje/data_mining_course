{
 "cells": [
  {
   "cell_type": "code",
   "execution_count": null,
   "metadata": {},
   "outputs": [],
   "source": [
    "import numpy as np\n",
    "import pandas as pd\n",
    "import pandas_profiling"
   ]
  },
  {
   "cell_type": "code",
   "execution_count": null,
   "metadata": {},
   "outputs": [],
   "source": [
    "# training_data = pd.read_csv(\"../../training_data_cleaned.csv\")\n",
    "training_data = pd.read_csv(\"data/training_data_cleaned.csv\")\n",
    "training_data.head()"
   ]
  },
  {
   "cell_type": "code",
   "execution_count": null,
   "metadata": {},
   "outputs": [],
   "source": [
    "training_data = training_data[[\"prop_starrating\", \"prop_location_score1\", \"price_usd\", \"promotion_flag\",\n",
    "                               \"srch_length_of_stay\", \"srch_adults_count\", \"srch_children_count\", \"srch_saturday_night_bool\", \"click_bool\", \"booking_bool\"]]\n",
    "training_data = training_data[training_data[\"price_usd\"] < 1000]\n",
    "training_data.to_csv(\"processed_data.csv\", index=False)"
   ]
  },
  {
   "cell_type": "code",
   "execution_count": null,
   "metadata": {},
   "outputs": [],
   "source": [
    "training_data = pd.read_csv(\"processed_data.csv\")\n",
    "profile = pandas_profiling.ProfileReport(training_data, title=\"Pandas Profiling Report\")#, minimal=True)\n",
    "\n",
    " # Change the config after\n",
    "#profile.config.html.minify_html = False\n",
    "profile.to_file(\"report_output_processed.html\")"
   ]
  },
  {
   "cell_type": "code",
   "execution_count": null,
   "metadata": {},
   "outputs": [],
   "source": [
    "training_data[\"price_rating_ratio\"] = training_data[\"prop_starrating\"] / training_data[\"price_usd\"]\n",
    "training_data.to_csv(\"processed_data.csv\", index=False)"
   ]
  }
 ],
 "metadata": {
  "kernelspec": {
   "display_name": "Python 3",
   "language": "python",
   "name": "python3"
  },
  "language_info": {
   "codemirror_mode": {
    "name": "ipython",
    "version": 3
   },
   "file_extension": ".py",
   "mimetype": "text/x-python",
   "name": "python",
   "nbconvert_exporter": "python",
   "pygments_lexer": "ipython3",
   "version": "3.8.8"
  }
 },
 "nbformat": 4,
 "nbformat_minor": 4
}
