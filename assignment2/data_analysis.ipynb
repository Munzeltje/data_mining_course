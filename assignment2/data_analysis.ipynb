{
 "cells": [
  {
   "cell_type": "markdown",
   "id": "4562134e",
   "metadata": {},
   "source": [
    "### Read data and get some info ###"
   ]
  },
  {
   "cell_type": "code",
   "execution_count": null,
   "id": "3116d4b7",
   "metadata": {},
   "outputs": [],
   "source": [
    "import pandas as pd"
   ]
  },
  {
   "cell_type": "code",
   "execution_count": null,
   "id": "7e83d77d",
   "metadata": {},
   "outputs": [],
   "source": [
    "training_data = pd.read_csv('data/training_set_VU_DM.csv')\n",
    "training_data.head()"
   ]
  },
  {
   "cell_type": "code",
   "execution_count": null,
   "id": "9d95130c",
   "metadata": {},
   "outputs": [],
   "source": [
    "training_data.info()"
   ]
  },
  {
   "cell_type": "markdown",
   "id": "e959555a",
   "metadata": {},
   "source": [
    "### Get rid of columns with null values ###\n",
    "\n",
    "Some columns have no null values, while some have almost exclusively null values. We'll get rid of the latter group."
   ]
  },
  {
   "cell_type": "code",
   "execution_count": null,
   "id": "54cccbe2",
   "metadata": {},
   "outputs": [],
   "source": [
    "training_data.isnull().sum()"
   ]
  },
  {
   "cell_type": "code",
   "execution_count": null,
   "id": "2448b66d",
   "metadata": {},
   "outputs": [],
   "source": [
    "training_data = training_data.dropna(axis=1)\n",
    "training_data.isnull().sum()"
   ]
  },
  {
   "cell_type": "code",
   "execution_count": null,
   "id": "b40282b0",
   "metadata": {},
   "outputs": [],
   "source": [
    "training_data.info()"
   ]
  },
  {
   "cell_type": "code",
   "execution_count": null,
   "id": "7b712a3a",
   "metadata": {},
   "outputs": [],
   "source": [
    "training_data.head()"
   ]
  },
  {
   "cell_type": "markdown",
   "id": "9ae22231",
   "metadata": {},
   "source": [
    "### Number of properties and how often they occur ###"
   ]
  },
  {
   "cell_type": "code",
   "execution_count": null,
   "id": "5a0975c0",
   "metadata": {},
   "outputs": [],
   "source": [
    "training_data['prop_id'].value_counts()[:10000]"
   ]
  },
  {
   "cell_type": "markdown",
   "id": "0bd2999c",
   "metadata": {},
   "source": [
    "### Statictics on features ###"
   ]
  },
  {
   "cell_type": "code",
   "execution_count": null,
   "id": "7bbbb6d7",
   "metadata": {},
   "outputs": [],
   "source": [
    "training_data[['prop_starrating', 'prop_location_score1', 'prop_log_historical_price', 'price_usd']].describe()"
   ]
  },
  {
   "cell_type": "code",
   "execution_count": null,
   "id": "99b02a8f",
   "metadata": {},
   "outputs": [],
   "source": [
    "training_data[['srch_length_of_stay' ,'srch_booking_window', 'srch_adults_count', 'srch_children_count', 'srch_room_count']].describe()"
   ]
  },
  {
   "cell_type": "code",
   "execution_count": null,
   "id": "0a91e0e7",
   "metadata": {},
   "outputs": [],
   "source": [
    "training_data[['visitor_location_country_id', 'prop_country_id', 'prop_id', 'prop_starrating', 'prop_brand_bool', 'srch_destination_id', 'srch_saturday_night_bool']].mode()"
   ]
  },
  {
   "cell_type": "markdown",
   "id": "713490f5",
   "metadata": {},
   "source": [
    "### Effect of promotions ###"
   ]
  },
  {
   "cell_type": "code",
   "execution_count": null,
   "id": "a566fa57",
   "metadata": {},
   "outputs": [],
   "source": [
    "training_data.groupby('promotion_flag')['booking_bool'].size()"
   ]
  },
  {
   "cell_type": "code",
   "execution_count": null,
   "id": "9fa0ae7e",
   "metadata": {},
   "outputs": [],
   "source": [
    "training_data.groupby('promotion_flag')['booking_bool'].sum()"
   ]
  },
  {
   "cell_type": "code",
   "execution_count": null,
   "id": "f423d522",
   "metadata": {},
   "outputs": [],
   "source": [
    "training_data.groupby('promotion_flag')['booking_bool'].mean()"
   ]
  }
 ],
 "metadata": {
  "kernelspec": {
   "display_name": "Python 3",
   "language": "python",
   "name": "python3"
  },
  "language_info": {
   "codemirror_mode": {
    "name": "ipython",
    "version": 3
   },
   "file_extension": ".py",
   "mimetype": "text/x-python",
   "name": "python",
   "nbconvert_exporter": "python",
   "pygments_lexer": "ipython3",
   "version": "3.8.8"
  }
 },
 "nbformat": 4,
 "nbformat_minor": 5
}
