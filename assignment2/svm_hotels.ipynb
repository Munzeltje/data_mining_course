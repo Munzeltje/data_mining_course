{
 "cells": [
  {
   "cell_type": "code",
   "execution_count": 21,
   "metadata": {},
   "outputs": [],
   "source": [
    "from sklearn.manifold import TSNE\n",
    "from sklearn.preprocessing import StandardScaler\n",
    "from sklearn.model_selection import GridSearchCV\n",
    "import numpy as np\n",
    "from sklearn import svm\n",
    "from sklearn.linear_model import LogisticRegression\n",
    "import torch\n",
    "import matplotlib.pyplot as plt\n",
    "from joblib import dump\n",
    "import pandas as pd\n",
    "from sklearn.metrics import classification_report\n",
    "from sklearn.model_selection import train_test_split"
   ]
  },
  {
   "cell_type": "code",
   "execution_count": 24,
   "metadata": {},
   "outputs": [
    {
     "name": "stdout",
     "output_type": "stream",
     "text": [
      "106079\n"
     ]
    },
    {
     "data": {
      "text/plain": [
       "397656"
      ]
     },
     "execution_count": 24,
     "metadata": {},
     "output_type": "execute_result"
    }
   ],
   "source": [
    "X = pd.read_csv(\"../../processed_data.csv\")\n",
    "print(len(X[X.click_bool == 1.0]))\n",
    "#X_train = X.head(2000000)\n",
    "X_train = X.head(2000000)\n",
    "X_val = X.tail(397656)\n",
    "#X_val = X.tail(50000)\n",
    "len(X_val)"
   ]
  },
  {
   "cell_type": "code",
   "execution_count": 25,
   "metadata": {},
   "outputs": [
    {
     "data": {
      "text/html": [
       "<div>\n",
       "<style scoped>\n",
       "    .dataframe tbody tr th:only-of-type {\n",
       "        vertical-align: middle;\n",
       "    }\n",
       "\n",
       "    .dataframe tbody tr th {\n",
       "        vertical-align: top;\n",
       "    }\n",
       "\n",
       "    .dataframe thead th {\n",
       "        text-align: right;\n",
       "    }\n",
       "</style>\n",
       "<table border=\"1\" class=\"dataframe\">\n",
       "  <thead>\n",
       "    <tr style=\"text-align: right;\">\n",
       "      <th></th>\n",
       "      <th>prop_starrating</th>\n",
       "      <th>prop_location_score1</th>\n",
       "      <th>price_usd</th>\n",
       "      <th>promotion_flag</th>\n",
       "      <th>srch_length_of_stay</th>\n",
       "      <th>srch_adults_count</th>\n",
       "      <th>srch_children_count</th>\n",
       "      <th>srch_saturday_night_bool</th>\n",
       "      <th>click_bool</th>\n",
       "      <th>booking_bool</th>\n",
       "      <th>price_rating_ratio</th>\n",
       "    </tr>\n",
       "  </thead>\n",
       "  <tbody>\n",
       "    <tr>\n",
       "      <th>0</th>\n",
       "      <td>3.0</td>\n",
       "      <td>2.83</td>\n",
       "      <td>104.77</td>\n",
       "      <td>0.0</td>\n",
       "      <td>1.0</td>\n",
       "      <td>4.0</td>\n",
       "      <td>0.0</td>\n",
       "      <td>1.0</td>\n",
       "      <td>0.0</td>\n",
       "      <td>0.0</td>\n",
       "      <td>0.028634</td>\n",
       "    </tr>\n",
       "    <tr>\n",
       "      <th>1</th>\n",
       "      <td>4.0</td>\n",
       "      <td>2.20</td>\n",
       "      <td>170.74</td>\n",
       "      <td>0.0</td>\n",
       "      <td>1.0</td>\n",
       "      <td>4.0</td>\n",
       "      <td>0.0</td>\n",
       "      <td>1.0</td>\n",
       "      <td>0.0</td>\n",
       "      <td>0.0</td>\n",
       "      <td>0.023427</td>\n",
       "    </tr>\n",
       "    <tr>\n",
       "      <th>2</th>\n",
       "      <td>3.0</td>\n",
       "      <td>2.20</td>\n",
       "      <td>179.80</td>\n",
       "      <td>0.0</td>\n",
       "      <td>1.0</td>\n",
       "      <td>4.0</td>\n",
       "      <td>0.0</td>\n",
       "      <td>1.0</td>\n",
       "      <td>0.0</td>\n",
       "      <td>0.0</td>\n",
       "      <td>0.016685</td>\n",
       "    </tr>\n",
       "    <tr>\n",
       "      <th>3</th>\n",
       "      <td>2.0</td>\n",
       "      <td>2.83</td>\n",
       "      <td>602.77</td>\n",
       "      <td>0.0</td>\n",
       "      <td>1.0</td>\n",
       "      <td>4.0</td>\n",
       "      <td>0.0</td>\n",
       "      <td>1.0</td>\n",
       "      <td>0.0</td>\n",
       "      <td>0.0</td>\n",
       "      <td>0.003318</td>\n",
       "    </tr>\n",
       "    <tr>\n",
       "      <th>4</th>\n",
       "      <td>4.0</td>\n",
       "      <td>2.64</td>\n",
       "      <td>143.58</td>\n",
       "      <td>0.0</td>\n",
       "      <td>1.0</td>\n",
       "      <td>4.0</td>\n",
       "      <td>0.0</td>\n",
       "      <td>1.0</td>\n",
       "      <td>0.0</td>\n",
       "      <td>0.0</td>\n",
       "      <td>0.027859</td>\n",
       "    </tr>\n",
       "  </tbody>\n",
       "</table>\n",
       "</div>"
      ],
      "text/plain": [
       "   prop_starrating  prop_location_score1  price_usd  promotion_flag  \\\n",
       "0              3.0                  2.83     104.77             0.0   \n",
       "1              4.0                  2.20     170.74             0.0   \n",
       "2              3.0                  2.20     179.80             0.0   \n",
       "3              2.0                  2.83     602.77             0.0   \n",
       "4              4.0                  2.64     143.58             0.0   \n",
       "\n",
       "   srch_length_of_stay  srch_adults_count  srch_children_count  \\\n",
       "0                  1.0                4.0                  0.0   \n",
       "1                  1.0                4.0                  0.0   \n",
       "2                  1.0                4.0                  0.0   \n",
       "3                  1.0                4.0                  0.0   \n",
       "4                  1.0                4.0                  0.0   \n",
       "\n",
       "   srch_saturday_night_bool  click_bool  booking_bool  price_rating_ratio  \n",
       "0                       1.0         0.0           0.0            0.028634  \n",
       "1                       1.0         0.0           0.0            0.023427  \n",
       "2                       1.0         0.0           0.0            0.016685  \n",
       "3                       1.0         0.0           0.0            0.003318  \n",
       "4                       1.0         0.0           0.0            0.027859  "
      ]
     },
     "execution_count": 25,
     "metadata": {},
     "output_type": "execute_result"
    }
   ],
   "source": [
    "X_train.head()"
   ]
  },
  {
   "cell_type": "code",
   "execution_count": 3,
   "metadata": {},
   "outputs": [
    {
     "name": "stdout",
     "output_type": "stream",
     "text": [
      "(50000, 11)\n"
     ]
    }
   ],
   "source": [
    "#Validation set\n",
    "\n",
    "# Remove the label from the dataset and create Y vector\n",
    "val = X_val.to_numpy()#[:100000,:]\n",
    "print(val.shape)\n",
    "# 8: click_bool, 9: booking_bool\n",
    "exclude = [8,9, 10]\n",
    "X_val = np.delete(val, exclude, axis=1)\n"
   ]
  },
  {
   "cell_type": "code",
   "execution_count": 4,
   "metadata": {},
   "outputs": [
    {
     "data": {
      "text/plain": [
       "array([0., 2., 0., 0., 0., 0., 0., 0., 0., 0., 0., 0., 0., 0., 0., 0., 0.,\n",
       "       0., 0., 0., 0., 0., 0., 0., 0., 0., 0., 0., 0., 0., 0., 0., 2., 0.,\n",
       "       0., 0., 0., 0., 0., 0., 0., 0., 0., 0., 0., 5., 0., 0., 0., 0., 0.,\n",
       "       0., 0., 0., 0., 0., 2., 0., 0., 0., 0., 0., 0., 0., 0., 0., 0., 0.,\n",
       "       0., 0., 0., 0., 0., 0., 0., 0., 0., 0., 0., 0., 0., 0., 0., 0., 0.,\n",
       "       0., 0., 0., 0., 0., 0., 0., 0., 0., 0., 0., 0., 0., 0., 0.])"
      ]
     },
     "execution_count": 4,
     "metadata": {},
     "output_type": "execute_result"
    }
   ],
   "source": [
    "Y_val = val[:,[8,9]]\n",
    "Y_val_rel = np.zeros(Y_val.shape[0])\n",
    "Y_val_rel[np.argwhere(Y_val[:,0]==1)[:,0]] = 2\n",
    "Y_val_rel[np.argwhere(Y_val[:,1]==1)[:,0]] = 5\n",
    "Y_val_rel[:100]"
   ]
  },
  {
   "cell_type": "code",
   "execution_count": 26,
   "metadata": {},
   "outputs": [
    {
     "data": {
      "text/plain": [
       "88464"
      ]
     },
     "execution_count": 26,
     "metadata": {},
     "output_type": "execute_result"
    }
   ],
   "source": [
    "len(X_train[X_train.click_bool == 1.0])"
   ]
  },
  {
   "cell_type": "code",
   "execution_count": 27,
   "metadata": {},
   "outputs": [
    {
     "data": {
      "text/plain": [
       "188464"
      ]
     },
     "execution_count": 27,
     "metadata": {},
     "output_type": "execute_result"
    }
   ],
   "source": [
    "X_zero = X_train[X_train.click_bool == 0.0].sample(100000, random_state=1)\n",
    "X_one = X_train.loc[X_train.click_bool == 1.0]\n",
    "train = pd.concat([X_zero, X_one], ignore_index=True, sort=False)\n",
    "len(train)"
   ]
  },
  {
   "cell_type": "code",
   "execution_count": 28,
   "metadata": {},
   "outputs": [
    {
     "name": "stdout",
     "output_type": "stream",
     "text": [
      "(188464, 11)\n",
      "[0. 0. 0. 0. 0. 0. 0. 0. 0. 0. 0. 0. 0. 0. 0. 0. 0. 0. 0. 0.]\n",
      "(188464, 9) (188464,)\n"
     ]
    }
   ],
   "source": [
    "# Remove the label from the dataset and create Y vector\n",
    "train = train.to_numpy()#[:100000,:]\n",
    "np.save(\"Train_full_balanced\", train)\n",
    "print(train.shape)\n",
    "# 8: click_bool, 9: booking_bool\n",
    "exclude = [8,9]\n",
    "Y_train = train[:,8]\n",
    "print(Y_train[:20])\n",
    "X_train = np.delete(train, exclude, axis=1)\n",
    "print(X_train.shape, Y_train.shape)"
   ]
  },
  {
   "cell_type": "code",
   "execution_count": 29,
   "metadata": {},
   "outputs": [
    {
     "data": {
      "text/plain": [
       "100000"
      ]
     },
     "execution_count": 29,
     "metadata": {},
     "output_type": "execute_result"
    }
   ],
   "source": [
    "(Y_train==0).sum()"
   ]
  },
  {
   "cell_type": "code",
   "execution_count": 9,
   "metadata": {},
   "outputs": [
    {
     "name": "stdout",
     "output_type": "stream",
     "text": [
      "(47069, 8)\n"
     ]
    }
   ],
   "source": [
    "scaler = StandardScaler().fit(X_train)\n",
    "dump(scaler, \"scaler_svm_train.joblib\")\n",
    "X_train = scaler.transform(X_train)\n",
    "X_val = scaler.transform(X_val)\n",
    "print(X_train.shape)"
   ]
  },
  {
   "cell_type": "code",
   "execution_count": null,
   "metadata": {},
   "outputs": [],
   "source": [
    "#Model = svm.SVC(decision_function_shape=\"ovr\")\n",
    "Model = svm.SVC(decision_function_shape=\"ovr\", kernel=\"linear\", verbose=True, probability=True)\n",
    "Model.fit(X_train,Y_train)\n",
    "\n",
    "#predictions = Model.predict(scaler.transform(X_val))\n",
    "#print(\"Accuracy: \", np.mean(predictions==Y_val))\n",
    "dump(Model, \"svm.joblib_subset\")"
   ]
  },
  {
   "cell_type": "code",
   "execution_count": null,
   "metadata": {},
   "outputs": [],
   "source": [
    "\"\"\"\n",
    "from sklearn.ensemble import RandomForestClassifier\n",
    "\n",
    "Model = RandomForestClassifier(max_depth=2, random_state=0, class_weight=\"balanced\")\n",
    "Model.fit(X_train,Y_train)\n",
    "\n",
    "predictions = Model.predict(scaler.transform(X_val))\n",
    "print(\"Accuracy: \", np.mean(predictions==Y_val))\n"
   ]
  },
  {
   "cell_type": "code",
   "execution_count": 10,
   "metadata": {},
   "outputs": [],
   "source": [
    "from sklearn.metrics import ndcg_score"
   ]
  },
  {
   "cell_type": "code",
   "execution_count": null,
   "metadata": {},
   "outputs": [],
   "source": [
    "predictions = Model.predict_proba(scaler.transform(X_val))"
   ]
  },
  {
   "cell_type": "code",
   "execution_count": null,
   "metadata": {},
   "outputs": [],
   "source": [
    "#print(Y_val_rel.shape)\n",
    "#print(predictions[:,1].shape)\n",
    "\n",
    "print(predictions[:,1].shape)\n",
    "\n",
    "Y_val_rel = np.array([Y_val_rel])\n",
    "prediction_rel = np.array([predictions[:,1]])\n",
    "print(Y_val_rel.shape)\n",
    "print(prediction_rel.shape)"
   ]
  },
  {
   "cell_type": "code",
   "execution_count": null,
   "metadata": {},
   "outputs": [],
   "source": [
    "ndcg_score(Y_val_rel, prediction_rel)"
   ]
  },
  {
   "cell_type": "code",
   "execution_count": 11,
   "metadata": {},
   "outputs": [],
   "source": [
    "import xgboost as xgb"
   ]
  },
  {
   "cell_type": "code",
   "execution_count": 18,
   "metadata": {},
   "outputs": [
    {
     "data": {
      "text/plain": [
       "XGBRegressor(alpha=10, base_score=0.5, booster='gbtree', colsample_bylevel=1,\n",
       "             colsample_bynode=1, colsample_bytree=0.3, gamma=0, gpu_id=-1,\n",
       "             importance_type='gain', interaction_constraints='',\n",
       "             learning_rate=0.1, max_delta_step=0, max_depth=10,\n",
       "             min_child_weight=1, missing=nan, monotone_constraints='()',\n",
       "             n_estimators=10, n_jobs=12, num_parallel_tree=1, random_state=0,\n",
       "             reg_alpha=10, reg_lambda=1, scale_pos_weight=1, subsample=1,\n",
       "             tree_method='exact', validate_parameters=1, verbosity=None)"
      ]
     },
     "execution_count": 18,
     "metadata": {},
     "output_type": "execute_result"
    }
   ],
   "source": [
    "xg_reg = xgb.XGBRegressor(objective ='reg:squarederror', colsample_bytree = 0.3, learning_rate = 0.1,\n",
    "                max_depth = 5, alpha = 10, n_estimators = 10)\n",
    "\n",
    "xg_reg.fit(X_train,Y_train)"
   ]
  },
  {
   "cell_type": "code",
   "execution_count": 19,
   "metadata": {},
   "outputs": [
    {
     "name": "stdout",
     "output_type": "stream",
     "text": [
      "[0.4541862  0.45697123 0.47066492 0.47066492 0.4364699  0.45697123\n",
      " 0.4364699  0.4364699  0.4541862  0.4364699  0.4541862  0.4364699\n",
      " 0.45697123 0.4364699  0.45697123 0.4364699  0.4678799  0.4501636\n",
      " 0.4364699  0.45697123 0.4364699  0.45697123 0.4678799  0.47066492\n",
      " 0.4501636  0.4501636  0.4501636  0.4364699  0.4364699  0.4501636\n",
      " 0.45697123 0.47066492 0.45697123 0.4364699  0.4364699  0.45697123\n",
      " 0.4541862  0.4364699  0.4678799  0.45697123 0.45697123 0.4541862\n",
      " 0.46565947 0.46565947 0.46565947 0.46565947 0.46565947 0.4422112\n",
      " 0.4585135  0.4585135 ]\n"
     ]
    }
   ],
   "source": [
    "preds = xg_reg.predict(scaler.transform(X_val))\n",
    "print(preds[:50])"
   ]
  },
  {
   "cell_type": "code",
   "execution_count": 20,
   "metadata": {},
   "outputs": [
    {
     "data": {
      "text/plain": [
       "0.6495846503033397"
      ]
     },
     "execution_count": 20,
     "metadata": {},
     "output_type": "execute_result"
    }
   ],
   "source": [
    "ndcg_score(np.array([Y_val_rel]), np.array([preds]))"
   ]
  },
  {
   "cell_type": "code",
   "execution_count": null,
   "metadata": {},
   "outputs": [],
   "source": []
  }
 ],
 "metadata": {
  "kernelspec": {
   "display_name": "Python 3",
   "language": "python",
   "name": "python3"
  },
  "language_info": {
   "codemirror_mode": {
    "name": "ipython",
    "version": 3
   },
   "file_extension": ".py",
   "mimetype": "text/x-python",
   "name": "python",
   "nbconvert_exporter": "python",
   "pygments_lexer": "ipython3",
   "version": "3.8.5"
  }
 },
 "nbformat": 4,
 "nbformat_minor": 4
}
