{
 "cells": [
  {
   "cell_type": "code",
   "execution_count": 3,
   "metadata": {},
   "outputs": [],
   "source": [
    "from sklearn.manifold import TSNE\n",
    "from sklearn.preprocessing import StandardScaler\n",
    "from sklearn.model_selection import GridSearchCV\n",
    "import numpy as np\n",
    "from sklearn import svm\n",
    "from sklearn.linear_model import LogisticRegression\n",
    "import torch\n",
    "import matplotlib.pyplot as plt\n",
    "from joblib import dump\n",
    "import pandas as pd\n",
    "from sklearn.metrics import classification_report\n",
    "from sklearn.model_selection import train_test_split"
   ]
  },
  {
   "cell_type": "code",
   "execution_count": 4,
   "metadata": {},
   "outputs": [
    {
     "name": "stdout",
     "output_type": "stream",
     "text": [
      "106079\n"
     ]
    },
    {
     "data": {
      "text/plain": [
       "50000"
      ]
     },
     "execution_count": 4,
     "metadata": {},
     "output_type": "execute_result"
    }
   ],
   "source": [
    "X = pd.read_csv(\"../../processed_data.csv\")\n",
    "print(len(X[X.click_bool == 1.0]))\n",
    "#X_train = X.head(2000000)\n",
    "X_train = X.head(100000)\n",
    "#X_val = X.tail(397656)\n",
    "X_val = X.tail(50000)\n",
    "len(X_val)"
   ]
  },
  {
   "cell_type": "code",
   "execution_count": 5,
   "metadata": {},
   "outputs": [
    {
     "name": "stdout",
     "output_type": "stream",
     "text": [
      "(50000, 11)\n"
     ]
    }
   ],
   "source": [
    "#Validation set\n",
    "\n",
    "# Remove the label from the dataset and create Y vector\n",
    "val = X_val.to_numpy()#[:100000,:]\n",
    "print(val.shape)\n",
    "# 8: click_bool, 9: booking_bool\n",
    "exclude = [8,9, 10]\n",
    "X_val = np.delete(val, exclude, axis=1)\n"
   ]
  },
  {
   "cell_type": "code",
   "execution_count": 6,
   "metadata": {},
   "outputs": [
    {
     "data": {
      "text/plain": [
       "array([0., 2., 0., 0., 0., 0., 0., 0., 0., 0., 0., 0., 0., 0., 0., 0., 0.,\n",
       "       0., 0., 0., 0., 0., 0., 0., 0., 0., 0., 0., 0., 0., 0., 0., 2., 0.,\n",
       "       0., 0., 0., 0., 0., 0., 0., 0., 0., 0., 0., 5., 0., 0., 0., 0., 0.,\n",
       "       0., 0., 0., 0., 0., 2., 0., 0., 0., 0., 0., 0., 0., 0., 0., 0., 0.,\n",
       "       0., 0., 0., 0., 0., 0., 0., 0., 0., 0., 0., 0., 0., 0., 0., 0., 0.,\n",
       "       0., 0., 0., 0., 0., 0., 0., 0., 0., 0., 0., 0., 0., 0., 0.])"
      ]
     },
     "execution_count": 6,
     "metadata": {},
     "output_type": "execute_result"
    }
   ],
   "source": [
    "Y_val = val[:,[8,9]]\n",
    "Y_val_rel = np.zeros(Y_val.shape[0])\n",
    "Y_val_rel[np.argwhere(Y_val[:,0]==1)[:,0]] = 2\n",
    "Y_val_rel[np.argwhere(Y_val[:,1]==1)[:,0]] = 5\n",
    "Y_val_rel[:100]"
   ]
  },
  {
   "cell_type": "code",
   "execution_count": 7,
   "metadata": {},
   "outputs": [
    {
     "data": {
      "text/plain": [
       "4393"
      ]
     },
     "execution_count": 7,
     "metadata": {},
     "output_type": "execute_result"
    }
   ],
   "source": [
    "len(X_train[X_train.click_bool == 1.0])"
   ]
  },
  {
   "cell_type": "code",
   "execution_count": 8,
   "metadata": {},
   "outputs": [
    {
     "data": {
      "text/plain": [
       "11393"
      ]
     },
     "execution_count": 8,
     "metadata": {},
     "output_type": "execute_result"
    }
   ],
   "source": [
    "X_zero = X_train[X_train.click_bool == 0.0].sample(7000, random_state=1)\n",
    "X_one = X_train.loc[X_train.click_bool == 1.0]\n",
    "train = pd.concat([X_zero, X_one], ignore_index=True, sort=False)\n",
    "len(train)"
   ]
  },
  {
   "cell_type": "code",
   "execution_count": 9,
   "metadata": {},
   "outputs": [
    {
     "name": "stdout",
     "output_type": "stream",
     "text": [
      "(11393, 11)\n",
      "[0. 0. 0. 0. 0. 0. 0. 0. 0. 0. 0. 0. 0. 0. 0. 0. 0. 0. 0. 0.]\n",
      "(11393, 8) (11393,)\n"
     ]
    }
   ],
   "source": [
    "# Remove the label from the dataset and create Y vector\n",
    "train = train.to_numpy()#[:100000,:]\n",
    "print(train.shape)\n",
    "# 8: click_bool, 9: booking_bool\n",
    "exclude = [8,9, 10]\n",
    "Y_train = train[:,8]\n",
    "print(Y_train[:20])\n",
    "X_train = np.delete(train, exclude, axis=1)\n",
    "print(X_train.shape, Y_train.shape)"
   ]
  },
  {
   "cell_type": "code",
   "execution_count": 10,
   "metadata": {},
   "outputs": [
    {
     "data": {
      "text/plain": [
       "7000"
      ]
     },
     "execution_count": 10,
     "metadata": {},
     "output_type": "execute_result"
    }
   ],
   "source": [
    "(Y_train==0).sum()"
   ]
  },
  {
   "cell_type": "code",
   "execution_count": 11,
   "metadata": {},
   "outputs": [
    {
     "name": "stdout",
     "output_type": "stream",
     "text": [
      "(11393, 8)\n"
     ]
    }
   ],
   "source": [
    "scaler = StandardScaler().fit(X_train)\n",
    "dump(scaler, \"scaler_svm_train.joblib\")\n",
    "X_train = scaler.transform(X_train)\n",
    "X_val = scaler.transform(X_val)\n",
    "print(X_train.shape)"
   ]
  },
  {
   "cell_type": "code",
   "execution_count": null,
   "metadata": {},
   "outputs": [],
   "source": [
    "#Model = svm.SVC(decision_function_shape=\"ovr\")\n",
    "Model = svm.SVC(decision_function_shape=\"ovr\", kernel=\"linear\", verbose=True, probability=True)\n",
    "Model.fit(X_train,Y_train)\n",
    "\n",
    "#predictions = Model.predict(scaler.transform(X_val))\n",
    "#print(\"Accuracy: \", np.mean(predictions==Y_val))\n",
    "dump(Model, \"svm.joblib_subset\")"
   ]
  },
  {
   "cell_type": "code",
   "execution_count": null,
   "metadata": {},
   "outputs": [],
   "source": [
    "\"\"\"\n",
    "from sklearn.ensemble import RandomForestClassifier\n",
    "\n",
    "Model = RandomForestClassifier(max_depth=2, random_state=0, class_weight=\"balanced\")\n",
    "Model.fit(X_train,Y_train)\n",
    "\n",
    "predictions = Model.predict(scaler.transform(X_val))\n",
    "print(\"Accuracy: \", np.mean(predictions==Y_val))\n"
   ]
  },
  {
   "cell_type": "code",
   "execution_count": 12,
   "metadata": {},
   "outputs": [],
   "source": [
    "from sklearn.metrics import ndcg_score"
   ]
  },
  {
   "cell_type": "code",
   "execution_count": null,
   "metadata": {},
   "outputs": [],
   "source": [
    "predictions = Model.predict_proba(scaler.transform(X_val))"
   ]
  },
  {
   "cell_type": "code",
   "execution_count": null,
   "metadata": {},
   "outputs": [],
   "source": [
    "#print(Y_val_rel.shape)\n",
    "#print(predictions[:,1].shape)\n",
    "\n",
    "print(predictions[:,1].shape)\n",
    "\n",
    "Y_val_rel = np.array([Y_val_rel])\n",
    "prediction_rel = np.array([predictions[:,1]])\n",
    "print(Y_val_rel.shape)\n",
    "print(prediction_rel.shape)"
   ]
  },
  {
   "cell_type": "code",
   "execution_count": null,
   "metadata": {},
   "outputs": [],
   "source": [
    "ndcg_score(Y_val_rel, prediction_rel)"
   ]
  },
  {
   "cell_type": "code",
   "execution_count": 13,
   "metadata": {},
   "outputs": [],
   "source": [
    "import xgboost as xgb"
   ]
  },
  {
   "cell_type": "code",
   "execution_count": 14,
   "metadata": {},
   "outputs": [
    {
     "name": "stdout",
     "output_type": "stream",
     "text": [
      "[19:08:07] WARNING: ../src/objective/regression_obj.cu:171: reg:linear is now deprecated in favor of reg:squarederror.\n"
     ]
    },
    {
     "data": {
      "text/plain": [
       "XGBRegressor(alpha=10, base_score=0.5, booster='gbtree', colsample_bylevel=1,\n",
       "             colsample_bynode=1, colsample_bytree=0.3, gamma=0, gpu_id=-1,\n",
       "             importance_type='gain', interaction_constraints='',\n",
       "             learning_rate=0.1, max_delta_step=0, max_depth=5,\n",
       "             min_child_weight=1, missing=nan, monotone_constraints='()',\n",
       "             n_estimators=10, n_jobs=12, num_parallel_tree=1,\n",
       "             objective='reg:linear', random_state=0, reg_alpha=10, reg_lambda=1,\n",
       "             scale_pos_weight=1, subsample=1, tree_method='exact',\n",
       "             validate_parameters=1, verbosity=None)"
      ]
     },
     "execution_count": 14,
     "metadata": {},
     "output_type": "execute_result"
    }
   ],
   "source": [
    "xg_reg = xgb.XGBRegressor(objective ='reg:linear', colsample_bytree = 0.3, learning_rate = 0.1,\n",
    "                max_depth = 5, alpha = 10, n_estimators = 10)\n",
    "\n",
    "xg_reg.fit(X_train,Y_train)"
   ]
  },
  {
   "cell_type": "code",
   "execution_count": 15,
   "metadata": {},
   "outputs": [
    {
     "name": "stdout",
     "output_type": "stream",
     "text": [
      "[0.42143518 0.42143518 0.42143518 0.42143518 0.40326425 0.42143518\n",
      " 0.40326425 0.40326425 0.42143518 0.40326425 0.42143518 0.40326425\n",
      " 0.42143518 0.40326425 0.42143518 0.40326425 0.42143518 0.40326425\n",
      " 0.40326425 0.42143518 0.40326425 0.42143518 0.42143518 0.42143518\n",
      " 0.40326425 0.40326425 0.40326425 0.40326425 0.40326425 0.40326425\n",
      " 0.42143518 0.42143518 0.42143518 0.40326425 0.40326425 0.42143518\n",
      " 0.42143518 0.40326425 0.42143518 0.42143518 0.42143518 0.42143518\n",
      " 0.40326425 0.40326425 0.40326425 0.40326425 0.40326425 0.40326425\n",
      " 0.42318544 0.42318544]\n"
     ]
    }
   ],
   "source": [
    "preds = xg_reg.predict(scaler.transform(X_val))\n",
    "print(preds[:50])"
   ]
  },
  {
   "cell_type": "code",
   "execution_count": 19,
   "metadata": {},
   "outputs": [
    {
     "data": {
      "text/plain": [
       "0.654291426044383"
      ]
     },
     "execution_count": 19,
     "metadata": {},
     "output_type": "execute_result"
    }
   ],
   "source": [
    "ndcg_score(np.array([Y_val_rel]), np.array([preds]))"
   ]
  },
  {
   "cell_type": "code",
   "execution_count": null,
   "metadata": {},
   "outputs": [],
   "source": []
  }
 ],
 "metadata": {
  "kernelspec": {
   "display_name": "Python 3",
   "language": "python",
   "name": "python3"
  },
  "language_info": {
   "codemirror_mode": {
    "name": "ipython",
    "version": 3
   },
   "file_extension": ".py",
   "mimetype": "text/x-python",
   "name": "python",
   "nbconvert_exporter": "python",
   "pygments_lexer": "ipython3",
   "version": "3.8.5"
  }
 },
 "nbformat": 4,
 "nbformat_minor": 4
}
