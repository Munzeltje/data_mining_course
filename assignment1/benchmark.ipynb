{
 "cells": [
  {
   "cell_type": "markdown",
   "id": "e4f4abe9",
   "metadata": {
    "tags": []
   },
   "source": [
    "### Imports ###"
   ]
  },
  {
   "cell_type": "code",
   "execution_count": null,
   "id": "257cc50c",
   "metadata": {},
   "outputs": [],
   "source": [
    "import pandas as pd"
   ]
  },
  {
   "cell_type": "markdown",
   "id": "c2f8204a",
   "metadata": {},
   "source": [
    "### Some functions ###"
   ]
  },
  {
   "cell_type": "code",
   "execution_count": null,
   "id": "0037ca47",
   "metadata": {},
   "outputs": [],
   "source": [
    "def benchmark(xs):\n",
    "    pred = [round(x) for x in xs]\n",
    "    return pred\n",
    "\n",
    "def get_num_correct_total(preds, ys):\n",
    "    total = len(preds)\n",
    "    matches = [1 for pred, y in zip(preds, ys) if pred == y]\n",
    "    correct = sum(matches)\n",
    "    return correct, total"
   ]
  },
  {
   "cell_type": "markdown",
   "id": "e8e8fdc7",
   "metadata": {},
   "source": [
    "### Benchmark results ###"
   ]
  },
  {
   "cell_type": "code",
   "execution_count": null,
   "id": "3bf68441",
   "metadata": {},
   "outputs": [],
   "source": [
    "df_test = pd.read_csv('data/dataset_test.csv', usecols=['id', 'mood'])\n",
    "\n",
    "users = df_test['id'].unique()\n",
    "num_correct = 0\n",
    "num_total = 0\n",
    "for user in users:\n",
    "    df_user = df_test[df_test['id'] == user]\n",
    "    x = df_user[:-1]['mood'].tolist()\n",
    "    y = df_user[1:]['mood'].round().astype(int).tolist()\n",
    "    pred = benchmark(x)\n",
    "    correct, total = get_num_correct_total(pred, y)\n",
    "    num_correct += correct\n",
    "    num_total += total\n",
    "accuracy = num_correct / num_total\n",
    "accuracy = round(accuracy, 2)\n",
    "print(\"The accuracy is {0}\".format(accuracy))  \n",
    "    "
   ]
  }
 ],
 "metadata": {
  "kernelspec": {
   "display_name": "Python 3",
   "language": "python",
   "name": "python3"
  },
  "language_info": {
   "codemirror_mode": {
    "name": "ipython",
    "version": 3
   },
   "file_extension": ".py",
   "mimetype": "text/x-python",
   "name": "python",
   "nbconvert_exporter": "python",
   "pygments_lexer": "ipython3",
   "version": "3.8.8"
  }
 },
 "nbformat": 4,
 "nbformat_minor": 5
}
