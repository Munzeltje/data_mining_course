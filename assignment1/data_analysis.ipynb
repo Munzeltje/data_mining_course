{
 "cells": [
  {
   "cell_type": "markdown",
   "id": "c37f0ec0",
   "metadata": {},
   "source": [
    "### Imports ###"
   ]
  },
  {
   "cell_type": "code",
   "execution_count": 1,
   "id": "69b318b8",
   "metadata": {},
   "outputs": [],
   "source": [
    "import pandas as pd"
   ]
  },
  {
   "cell_type": "markdown",
   "id": "08f4501e",
   "metadata": {},
   "source": [
    "### Read data ###"
   ]
  },
  {
   "cell_type": "code",
   "execution_count": 2,
   "id": "4e7d8776",
   "metadata": {},
   "outputs": [
    {
     "name": "stdout",
     "output_type": "stream",
     "text": [
      "id                  object\n",
      "time        datetime64[ns]\n",
      "variable            object\n",
      "value              float64\n",
      "dtype: object\n"
     ]
    }
   ],
   "source": [
    "df_phone = pd.read_csv('dataset_mood_smartphone.csv', usecols=['id', 'time', 'variable', 'value'])\n",
    "df_phone['time'] = pd.to_datetime(df_phone['time'])\n",
    "print(df_phone.dtypes)"
   ]
  },
  {
   "cell_type": "markdown",
   "id": "a09da679",
   "metadata": {},
   "source": [
    "### Remove rows with NaN values ###"
   ]
  },
  {
   "cell_type": "code",
   "execution_count": 3,
   "id": "e22667aa",
   "metadata": {},
   "outputs": [
    {
     "name": "stdout",
     "output_type": "stream",
     "text": [
      "<class 'pandas.core.frame.DataFrame'>\n",
      "Int64Index: 202 entries, 5708 to 16902\n",
      "Data columns (total 4 columns):\n",
      " #   Column    Non-Null Count  Dtype         \n",
      "---  ------    --------------  -----         \n",
      " 0   id        202 non-null    object        \n",
      " 1   time      202 non-null    datetime64[ns]\n",
      " 2   variable  202 non-null    object        \n",
      " 3   value     0 non-null      float64       \n",
      "dtypes: datetime64[ns](1), float64(1), object(2)\n",
      "memory usage: 7.9+ KB\n"
     ]
    }
   ],
   "source": [
    "nan_stuff = df_phone[df_phone.isna().any(axis=1)]\n",
    "nan_stuff.info()"
   ]
  },
  {
   "cell_type": "code",
   "execution_count": 4,
   "id": "0b58d103",
   "metadata": {},
   "outputs": [
    {
     "name": "stdout",
     "output_type": "stream",
     "text": [
      "The length of the entire dataframe:\t376912\n",
      "\n",
      "The number of rows with NaN values:\t202\n",
      "\n",
      "The length of the cleaned dataframe:\t376710\n"
     ]
    }
   ],
   "source": [
    "print(\"The length of the entire dataframe:\\t{0}\\n\".format(len(df_phone)))\n",
    "print(\"The number of rows with NaN values:\\t{0}\\n\".format(len(nan_stuff)))\n",
    "\n",
    "df_phone = df_phone[df_phone['value'].notna()]\n",
    "\n",
    "print(\"The length of the cleaned dataframe:\\t{0}\".format(len(df_phone)))"
   ]
  },
  {
   "cell_type": "markdown",
   "id": "067d167f",
   "metadata": {},
   "source": [
    "### Get some statistics ###"
   ]
  },
  {
   "cell_type": "code",
   "execution_count": null,
   "id": "d1f6ca5b",
   "metadata": {},
   "outputs": [],
   "source": [
    "df_phone.info()"
   ]
  },
  {
   "cell_type": "code",
   "execution_count": null,
   "id": "f96acd21",
   "metadata": {},
   "outputs": [],
   "source": [
    "df_phone.head(20)"
   ]
  },
  {
   "cell_type": "code",
   "execution_count": null,
   "id": "d1f3ec58",
   "metadata": {},
   "outputs": [],
   "source": [
    "df_phone.describe(datetime_is_numeric=True, include='all')"
   ]
  },
  {
   "cell_type": "markdown",
   "id": "2eb3f529",
   "metadata": {},
   "source": [
    "### Save cleaned data ###"
   ]
  },
  {
   "cell_type": "code",
   "execution_count": 5,
   "id": "5951a2d0",
   "metadata": {},
   "outputs": [],
   "source": [
    "df_phone.to_csv('dataset_mood_smartphone_clean.csv')"
   ]
  }
 ],
 "metadata": {
  "kernelspec": {
   "display_name": "Python 3",
   "language": "python",
   "name": "python3"
  },
  "language_info": {
   "codemirror_mode": {
    "name": "ipython",
    "version": 3
   },
   "file_extension": ".py",
   "mimetype": "text/x-python",
   "name": "python",
   "nbconvert_exporter": "python",
   "pygments_lexer": "ipython3",
   "version": "3.8.8"
  }
 },
 "nbformat": 4,
 "nbformat_minor": 5
}
