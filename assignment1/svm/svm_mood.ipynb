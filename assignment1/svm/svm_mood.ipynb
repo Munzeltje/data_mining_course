{
 "cells": [
  {
   "cell_type": "code",
   "execution_count": 1,
   "metadata": {},
   "outputs": [],
   "source": [
    "from sklearn.manifold import TSNE\n",
    "from sklearn.preprocessing import StandardScaler\n",
    "from sklearn.model_selection import GridSearchCV\n",
    "import numpy as np\n",
    "from sklearn import svm\n",
    "from sklearn.linear_model import LogisticRegression\n",
    "import torch\n",
    "import matplotlib.pyplot as plt\n",
    "from joblib import dump\n",
    "import pandas as pd\n",
    "from sklearn.metrics import classification_report"
   ]
  },
  {
   "cell_type": "code",
   "execution_count": 2,
   "metadata": {},
   "outputs": [],
   "source": [
    "X_train_2 = pd.read_csv(\"../data/x_train_2.csv\", header=None)\n",
    "Y_train_2 = pd.read_csv(\"../data/y_train_2.csv\", header=None)\n",
    "\n",
    "X_train_3 = pd.read_csv(\"../data/x_train_3.csv\", header=None)\n",
    "Y_train_3 = pd.read_csv(\"../data/y_train_3.csv\", header=None)\n",
    "\n",
    "X_train_5 = pd.read_csv(\"../data/x_train_5.csv\", header=None)\n",
    "Y_train_5 = pd.read_csv(\"../data/y_train_5.csv\", header=None)\n",
    "\n",
    "X_val_2 = pd.read_csv(\"../data/x_val_2.csv\", header=None)\n",
    "Y_val_2 = pd.read_csv(\"../data/y_val_2.csv\", header=None)\n",
    "\n",
    "X_val_3 = pd.read_csv(\"../data/x_val_3.csv\", header=None)\n",
    "Y_val_3 = pd.read_csv(\"../data/y_val_3.csv\", header=None)\n",
    "\n",
    "X_val_5 = pd.read_csv(\"../data/x_val_5.csv\", header=None)\n",
    "Y_val_5 = pd.read_csv(\"../data/y_val_5.csv\", header=None)"
   ]
  },
  {
   "cell_type": "code",
   "execution_count": 3,
   "metadata": {},
   "outputs": [],
   "source": [
    "X_train_2 = X_train_2.to_numpy()\n",
    "Y_train_2 = Y_train_2.to_numpy()[:,0] - 1\n",
    "\n",
    "X_train_3 = X_train_3.to_numpy()\n",
    "Y_train_3 = Y_train_3.to_numpy()[:,0] - 1\n",
    "\n",
    "X_train_5 = X_train_5.to_numpy()\n",
    "Y_train_5 = Y_train_5.to_numpy()[:,0] - 1\n",
    "\n",
    "X_val_2 = X_val_2.to_numpy()\n",
    "Y_val_2 = Y_val_2.to_numpy()[:,0] - 1\n",
    "\n",
    "X_val_3 = X_val_3.to_numpy()\n",
    "Y_val_3 = Y_val_3.to_numpy()[:,0] - 1\n",
    "\n",
    "X_val_5 = X_val_5.to_numpy()\n",
    "Y_val_5 = Y_val_5.to_numpy()[:,0] - 1\n"
   ]
  },
  {
   "cell_type": "code",
   "execution_count": 4,
   "metadata": {},
   "outputs": [],
   "source": [
    "def print_class_distr(Y):\n",
    "\n",
    "    print((Y==0).sum())\n",
    "    print((Y==1).sum())\n",
    "    print((Y==2).sum())\n",
    "    print((Y==3).sum())\n",
    "    print((Y==4).sum())\n",
    "    print((Y==5).sum())\n",
    "    print((Y==6).sum())\n",
    "    print((Y==7).sum())\n",
    "    print((Y==8).sum())\n",
    "    print((Y==9).sum())"
   ]
  },
  {
   "cell_type": "code",
   "execution_count": 5,
   "metadata": {},
   "outputs": [
    {
     "name": "stdout",
     "output_type": "stream",
     "text": [
      "0\n",
      "0\n",
      "2\n",
      "8\n",
      "16\n",
      "190\n",
      "454\n",
      "157\n",
      "5\n",
      "0\n"
     ]
    }
   ],
   "source": [
    "\n",
    "print_class_distr(Y_train_3)\n",
    "\n"
   ]
  },
  {
   "cell_type": "code",
   "execution_count": 6,
   "metadata": {},
   "outputs": [],
   "source": [
    "scaler = StandardScaler().fit(X_train_3)\n",
    "dump(scaler, \"scaler.joblib\")\n",
    "X_train = scaler.transform(X_train_3)\n",
    "X_val = scaler.transform(X_val_3)\n"
   ]
  },
  {
   "cell_type": "code",
   "execution_count": 7,
   "metadata": {},
   "outputs": [
    {
     "name": "stdout",
     "output_type": "stream",
     "text": [
      "Accuracy:  0.0\n"
     ]
    },
    {
     "data": {
      "text/plain": [
       "['svm.joblib']"
      ]
     },
     "execution_count": 7,
     "metadata": {},
     "output_type": "execute_result"
    }
   ],
   "source": [
    "#Model = svm.SVC(decision_function_shape=\"ovr\")\n",
    "Model = svm.SVC(decision_function_shape=\"ovr\", kernel=\"linear\", class_weight=\"balanced\")\n",
    "Model.fit(X_train,Y_train_3)\n",
    "\n",
    "predictions = Model.predict(scaler.transform(X_val))\n",
    "print(\"Accuracy: \", np.mean(predictions==Y_val_3))\n",
    "dump(Model, \"svm.joblib\")"
   ]
  },
  {
   "cell_type": "code",
   "execution_count": 8,
   "metadata": {},
   "outputs": [
    {
     "name": "stdout",
     "output_type": "stream",
     "text": [
      "              precision    recall  f1-score   support\n",
      "\n",
      "           2       0.00      0.00      0.00       0.0\n",
      "           4       0.00      0.00      0.00       1.0\n",
      "           5       0.00      0.00      0.00      27.0\n",
      "           6       0.00      0.00      0.00      64.0\n",
      "           7       0.00      0.00      0.00      41.0\n",
      "           8       0.00      0.00      0.00       3.0\n",
      "\n",
      "    accuracy                           0.00     136.0\n",
      "   macro avg       0.00      0.00      0.00     136.0\n",
      "weighted avg       0.00      0.00      0.00     136.0\n",
      "\n"
     ]
    },
    {
     "name": "stderr",
     "output_type": "stream",
     "text": [
      "/home/argos/anaconda3/lib/python3.8/site-packages/sklearn/metrics/_classification.py:1221: UndefinedMetricWarning: Precision and F-score are ill-defined and being set to 0.0 in labels with no predicted samples. Use `zero_division` parameter to control this behavior.\n",
      "  _warn_prf(average, modifier, msg_start, len(result))\n",
      "/home/argos/anaconda3/lib/python3.8/site-packages/sklearn/metrics/_classification.py:1221: UndefinedMetricWarning: Recall and F-score are ill-defined and being set to 0.0 in labels with no true samples. Use `zero_division` parameter to control this behavior.\n",
      "  _warn_prf(average, modifier, msg_start, len(result))\n"
     ]
    }
   ],
   "source": [
    "print(classification_report(Y_val_3, predictions))"
   ]
  },
  {
   "cell_type": "code",
   "execution_count": 9,
   "metadata": {},
   "outputs": [
    {
     "data": {
      "text/plain": [
       "array([4, 4, 4, 2, 2, 2, 2, 4, 4, 4, 4, 2, 4, 4, 4, 4, 4, 4, 2, 4, 4, 4,\n",
       "       4, 4, 4, 4, 4, 2, 2, 2, 4, 4, 2, 4, 4, 4, 2, 2, 2, 2, 2, 2, 4, 4,\n",
       "       2, 2, 2, 2, 4, 4, 4, 4, 4, 2, 2, 2, 2, 2, 2, 2, 2, 2, 2, 4, 4, 4,\n",
       "       2, 2, 2, 2, 4, 4, 4, 2, 2, 2, 2, 5, 2, 2, 2, 2, 2, 2, 2, 5, 8, 5,\n",
       "       2, 2, 2, 2, 2, 2, 4, 2, 4, 4, 4, 4, 4, 4, 4, 2, 2, 2, 2, 2, 2, 5,\n",
       "       5, 8, 5, 2, 2, 2, 4, 4, 4, 2, 2, 2, 2, 2, 2, 5, 2, 2, 2, 2, 2, 2,\n",
       "       2, 2, 2, 2])"
      ]
     },
     "execution_count": 9,
     "metadata": {},
     "output_type": "execute_result"
    }
   ],
   "source": [
    "predictions"
   ]
  },
  {
   "cell_type": "code",
   "execution_count": 10,
   "metadata": {},
   "outputs": [
    {
     "name": "stdout",
     "output_type": "stream",
     "text": [
      "Accuracy:  0.19117647058823528\n"
     ]
    }
   ],
   "source": [
    "from sklearn.ensemble import RandomForestClassifier\n",
    "\n",
    "Model = RandomForestClassifier(max_depth=2, random_state=0, class_weight=\"balanced\")\n",
    "Model.fit(X_train,Y_train_3)\n",
    "\n",
    "predictions = Model.predict(scaler.transform(X_val))\n",
    "print(\"Accuracy: \", np.mean(predictions==Y_val_3))\n"
   ]
  },
  {
   "cell_type": "code",
   "execution_count": 14,
   "metadata": {},
   "outputs": [
    {
     "data": {
      "text/plain": [
       "array([5, 5, 5, 5, 5, 5, 5, 5, 5, 5, 5, 5, 5, 5, 5, 5, 5, 5, 5, 5, 5, 5,\n",
       "       5, 5, 5, 5, 5, 5, 5, 5, 5, 5, 8, 8, 8, 5, 5, 5, 5, 5, 5, 5, 5, 5,\n",
       "       5, 5, 5, 5, 5, 5, 5, 5, 5, 5, 5, 5, 5, 5, 5, 5, 5, 5, 5, 5, 5, 5,\n",
       "       5, 5, 5, 5, 5, 5, 5, 5, 5, 5, 5, 5, 5, 5, 5, 5, 5, 5, 5, 8, 8, 8,\n",
       "       5, 5, 5, 5, 5, 5, 5, 5, 5, 5, 5, 5, 5, 5, 5, 5, 5, 5, 5, 5, 5, 5,\n",
       "       5, 8, 8, 8, 5, 5, 5, 5, 5, 5, 5, 5, 5, 5, 5, 5, 5, 5, 5, 5, 5, 5,\n",
       "       5, 5, 5, 5])"
      ]
     },
     "execution_count": 14,
     "metadata": {},
     "output_type": "execute_result"
    }
   ],
   "source": []
  },
  {
   "cell_type": "code",
   "execution_count": null,
   "metadata": {},
   "outputs": [],
   "source": []
  }
 ],
 "metadata": {
  "kernelspec": {
   "display_name": "Python 3",
   "language": "python",
   "name": "python3"
  },
  "language_info": {
   "codemirror_mode": {
    "name": "ipython",
    "version": 3
   },
   "file_extension": ".py",
   "mimetype": "text/x-python",
   "name": "python",
   "nbconvert_exporter": "python",
   "pygments_lexer": "ipython3",
   "version": "3.8.5"
  }
 },
 "nbformat": 4,
 "nbformat_minor": 4
}
