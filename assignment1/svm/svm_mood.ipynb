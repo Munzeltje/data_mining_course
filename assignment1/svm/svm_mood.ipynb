{
 "cells": [
  {
   "cell_type": "code",
   "execution_count": 1,
   "metadata": {},
   "outputs": [],
   "source": [
    "from sklearn.manifold import TSNE\n",
    "from sklearn.preprocessing import StandardScaler\n",
    "from sklearn.model_selection import GridSearchCV\n",
    "import numpy as np\n",
    "from sklearn import svm\n",
    "from sklearn.linear_model import LogisticRegression\n",
    "import torch\n",
    "import matplotlib.pyplot as plt\n",
    "from joblib import dump\n",
    "import pandas as pd\n",
    "from sklearn.metrics import classification_report"
   ]
  },
  {
   "cell_type": "code",
   "execution_count": 25,
   "metadata": {},
   "outputs": [],
   "source": [
    "X_train_2 = pd.read_csv(\"../data/x_train_2.csv\", header=None)\n",
    "Y_train_2 = pd.read_csv(\"../data/y_train_2.csv\", header=None)\n",
    "\n",
    "X_train_3 = pd.read_csv(\"../data/x_train_3.csv\", header=None)\n",
    "Y_train_3 = pd.read_csv(\"../data/y_train_3.csv\", header=None)\n",
    "\n",
    "X_train_5 = pd.read_csv(\"../data/x_train_5.csv\", header=None)\n",
    "Y_train_5 = pd.read_csv(\"../data/y_train_5.csv\", header=None)\n",
    "\n",
    "X_val_2 = pd.read_csv(\"../data/x_val_2.csv\", header=None)\n",
    "Y_val_2 = pd.read_csv(\"../data/y_val_2.csv\", header=None)\n",
    "\n",
    "X_val_3 = pd.read_csv(\"../data/x_val_3.csv\", header=None)\n",
    "Y_val_3 = pd.read_csv(\"../data/y_val_3.csv\", header=None)\n",
    "\n",
    "X_val_5 = pd.read_csv(\"../data/x_val_5.csv\", header=None)\n",
    "Y_val_5 = pd.read_csv(\"../data/y_val_5.csv\", header=None)"
   ]
  },
  {
   "cell_type": "code",
   "execution_count": 26,
   "metadata": {},
   "outputs": [],
   "source": [
    "X_train_2 = X_train_2.to_numpy()\n",
    "Y_train_2 = Y_train_2.to_numpy()[:,0] - 1\n",
    "\n",
    "X_train_3 = X_train_3.to_numpy()\n",
    "Y_train_3 = Y_train_3.to_numpy()[:,0] - 1\n",
    "\n",
    "X_train_5 = X_train_5.to_numpy()\n",
    "Y_train_5 = Y_train_5.to_numpy()[:,0] - 1\n",
    "\n",
    "X_val_2 = X_val_2.to_numpy()\n",
    "Y_val_2 = Y_val_2.to_numpy()[:,0] - 1\n",
    "\n",
    "X_val_3 = X_val_3.to_numpy()\n",
    "Y_val_3 = Y_val_3.to_numpy()[:,0] - 1\n",
    "\n",
    "X_val_5 = X_val_5.to_numpy()\n",
    "Y_val_5 = Y_val_5.to_numpy()[:,0] - 1\n"
   ]
  },
  {
   "cell_type": "code",
   "execution_count": 31,
   "metadata": {},
   "outputs": [
    {
     "name": "stdout",
     "output_type": "stream",
     "text": [
      "inf\n",
      "inf\n",
      "230.5\n",
      "57.625\n",
      "28.8125\n",
      "2.3282828282828283\n",
      "1.0\n",
      "2.8633540372670807\n",
      "92.2\n",
      "inf\n"
     ]
    },
    {
     "name": "stderr",
     "output_type": "stream",
     "text": [
      "<ipython-input-31-ebe6d2700f64>:3: RuntimeWarning: divide by zero encountered in double_scalars\n",
      "  print(1 / (y / 461))\n"
     ]
    }
   ],
   "source": [
    "for i in range(10):\n",
    "    y = (Y_train_2==i).sum()\n",
    "    print(1 / (y / 461))"
   ]
  },
  {
   "cell_type": "code",
   "execution_count": 27,
   "metadata": {},
   "outputs": [
    {
     "name": "stdout",
     "output_type": "stream",
     "text": [
      "(851, 19)\n"
     ]
    }
   ],
   "source": [
    "scaler = StandardScaler().fit(X_train_3)\n",
    "dump(scaler, \"scaler.joblib\")\n",
    "X_train = scaler.transform(X_train_3)\n",
    "X_val = scaler.transform(X_val_3)\n",
    "print(X_train_2.shape)"
   ]
  },
  {
   "cell_type": "code",
   "execution_count": 19,
   "metadata": {},
   "outputs": [
    {
     "name": "stdout",
     "output_type": "stream",
     "text": [
      "Accuracy:  0.19852941176470587\n"
     ]
    },
    {
     "data": {
      "text/plain": [
       "['svm.joblib']"
      ]
     },
     "execution_count": 19,
     "metadata": {},
     "output_type": "execute_result"
    }
   ],
   "source": [
    "#Model = svm.SVC(decision_function_shape=\"ovr\")\n",
    "#Model = svm.SVC(decision_function_shape=\"ovr\", kernel=\"linear\")\n",
    "Model.fit(X_train,Y_train_3)\n",
    "\n",
    "predictions = Model.predict(scaler.transform(X_val))\n",
    "print(\"Accuracy: \", np.mean(predictions==Y_val_3))\n",
    "dump(Model, \"svm.joblib\")"
   ]
  },
  {
   "cell_type": "code",
   "execution_count": 20,
   "metadata": {},
   "outputs": [
    {
     "name": "stdout",
     "output_type": "stream",
     "text": [
      "              precision    recall  f1-score   support\n",
      "\n",
      "           4       0.00      0.00      0.00         1\n",
      "           5       0.20      1.00      0.33        27\n",
      "           6       0.00      0.00      0.00        64\n",
      "           7       0.00      0.00      0.00        41\n",
      "           8       0.00      0.00      0.00         3\n",
      "\n",
      "    accuracy                           0.20       136\n",
      "   macro avg       0.04      0.20      0.07       136\n",
      "weighted avg       0.04      0.20      0.07       136\n",
      "\n"
     ]
    },
    {
     "name": "stderr",
     "output_type": "stream",
     "text": [
      "/home/argos/anaconda3/lib/python3.8/site-packages/sklearn/metrics/_classification.py:1221: UndefinedMetricWarning: Precision and F-score are ill-defined and being set to 0.0 in labels with no predicted samples. Use `zero_division` parameter to control this behavior.\n",
      "  _warn_prf(average, modifier, msg_start, len(result))\n"
     ]
    }
   ],
   "source": [
    "print(classification_report(Y_val_3, predictions))"
   ]
  },
  {
   "cell_type": "code",
   "execution_count": 21,
   "metadata": {},
   "outputs": [
    {
     "data": {
      "text/plain": [
       "array([5, 5, 5, 5, 5, 5, 5, 5, 5, 5, 5, 5, 5, 5, 5, 5, 5, 5, 5, 5, 5, 5,\n",
       "       5, 5, 5, 5, 5, 5, 5, 5, 5, 5, 5, 5, 5, 5, 5, 5, 5, 5, 5, 5, 5, 5,\n",
       "       5, 5, 5, 5, 5, 5, 5, 5, 5, 5, 5, 5, 5, 5, 5, 5, 5, 5, 5, 5, 5, 5,\n",
       "       5, 5, 5, 5, 5, 5, 5, 5, 5, 5, 5, 5, 5, 5, 5, 5, 5, 5, 5, 5, 5, 5,\n",
       "       5, 5, 5, 5, 5, 5, 5, 5, 5, 5, 5, 5, 5, 5, 5, 5, 5, 5, 5, 5, 5, 5,\n",
       "       5, 5, 5, 5, 5, 5, 5, 5, 5, 5, 5, 5, 5, 5, 5, 5, 5, 5, 5, 5, 5, 5,\n",
       "       5, 5, 5, 5])"
      ]
     },
     "execution_count": 21,
     "metadata": {},
     "output_type": "execute_result"
    }
   ],
   "source": [
    "predictions"
   ]
  },
  {
   "cell_type": "code",
   "execution_count": null,
   "metadata": {},
   "outputs": [],
   "source": [
    "from sklearn.ensemble import RandomForestClassifier\n",
    "\n",
    "Model = RandomForestClassifier(max_depth=2, random_state=0, class_weight=\"balanced\")\n",
    "Model.fit(X_train,Y_train_3)\n",
    "\n",
    "predictions = Model.predict(scaler.transform(X_val))\n",
    "print(\"Accuracy: \", np.mean(predictions==Y_val_3))\n"
   ]
  },
  {
   "cell_type": "code",
   "execution_count": null,
   "metadata": {},
   "outputs": [],
   "source": []
  },
  {
   "cell_type": "code",
   "execution_count": null,
   "metadata": {},
   "outputs": [],
   "source": []
  }
 ],
 "metadata": {
  "kernelspec": {
   "display_name": "Python 3",
   "language": "python",
   "name": "python3"
  },
  "language_info": {
   "codemirror_mode": {
    "name": "ipython",
    "version": 3
   },
   "file_extension": ".py",
   "mimetype": "text/x-python",
   "name": "python",
   "nbconvert_exporter": "python",
   "pygments_lexer": "ipython3",
   "version": "3.8.5"
  }
 },
 "nbformat": 4,
 "nbformat_minor": 4
}
