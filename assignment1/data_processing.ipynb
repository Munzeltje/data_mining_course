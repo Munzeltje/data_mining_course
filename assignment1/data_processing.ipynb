{
 "cells": [
  {
   "cell_type": "markdown",
   "id": "1a91bfd2",
   "metadata": {},
   "source": [
    "### Imports ###"
   ]
  },
  {
   "cell_type": "code",
   "execution_count": null,
   "id": "87fdbb59",
   "metadata": {},
   "outputs": [],
   "source": [
    "import pandas as pd\n",
    "import numpy as np"
   ]
  },
  {
   "cell_type": "markdown",
   "id": "5ee9aca6",
   "metadata": {},
   "source": [
    "### Read data ###"
   ]
  },
  {
   "cell_type": "code",
   "execution_count": null,
   "id": "8e510129",
   "metadata": {},
   "outputs": [],
   "source": [
    "df_phone = pd.read_csv('data/dataset_mood_smartphone.csv', usecols=['id', 'time', 'variable', 'value'])\n",
    "df_phone['time'] = pd.to_datetime(df_phone['time'])\n",
    "print(df_phone.dtypes)"
   ]
  },
  {
   "cell_type": "markdown",
   "id": "59f24a25",
   "metadata": {},
   "source": [
    "### Remove rows with NaN values ###"
   ]
  },
  {
   "cell_type": "code",
   "execution_count": null,
   "id": "c1b32ca4",
   "metadata": {},
   "outputs": [],
   "source": [
    "nan_stuff = df_phone[df_phone.isna().any(axis=1)]\n",
    "nan_stuff.info()"
   ]
  },
  {
   "cell_type": "code",
   "execution_count": null,
   "id": "359cb5f5",
   "metadata": {},
   "outputs": [],
   "source": [
    "print(\"The length of the entire dataframe:\\t{0}\\n\".format(len(df_phone)))\n",
    "print(\"The number of rows with NaN values:\\t{0}\\n\".format(len(nan_stuff)))\n",
    "\n",
    "df_phone = df_phone[df_phone['value'].notna()]\n",
    "\n",
    "print(\"The length of the cleaned dataframe:\\t{0}\".format(len(df_phone)))"
   ]
  },
  {
   "cell_type": "markdown",
   "id": "110ef197",
   "metadata": {},
   "source": [
    "### Take a look ###"
   ]
  },
  {
   "cell_type": "code",
   "execution_count": null,
   "id": "b2211b7c",
   "metadata": {},
   "outputs": [],
   "source": [
    "df_phone.info()"
   ]
  },
  {
   "cell_type": "code",
   "execution_count": null,
   "id": "4ab00e74",
   "metadata": {},
   "outputs": [],
   "source": [
    "df_phone.head(20)"
   ]
  },
  {
   "cell_type": "code",
   "execution_count": null,
   "id": "8d3faf99",
   "metadata": {},
   "outputs": [],
   "source": [
    "df_phone.tail(20)"
   ]
  },
  {
   "cell_type": "markdown",
   "id": "c2adccc1",
   "metadata": {},
   "source": [
    "### Analyze specific variables ###\n",
    "\n",
    "<ul>\n",
    "    <li> Mood is usually around 7/in the range [6, 8]. \n",
    "    <li> Arousal pretty evenly distributed, centered close to 0, mostly [-1, 1]\n",
    "    <li> Valence a little higher than arousal, so tends to be positive, but std is lower than for arousal.\n",
    "    <li> Activity score tends to be low.\n",
    "    <li> People use their phone mostly for communication, entertainment, office, social and other.\n",
    "    <li> Screen time and use of communication, games, office, social, entertainment and built-in apps hava a high std and some outliers who score far higher than the majority.\n",
    "    <li> The highest std and most extreme outliers seem to occur in the use of office apps.\n",
    "</ul>    "
   ]
  },
  {
   "cell_type": "code",
   "execution_count": null,
   "id": "adb01613",
   "metadata": {
    "tags": []
   },
   "outputs": [],
   "source": [
    "variables = list(df_phone['variable'].unique())\n",
    "for variable in variables:\n",
    "    df_phone_variable = df_phone[df_phone['variable'] == variable]\n",
    "    print(\"Summary for {0}:\\n\\n{1}\\n\\n\\n\".format(variable, df_phone_variable.describe()))"
   ]
  },
  {
   "cell_type": "markdown",
   "id": "295ebb89",
   "metadata": {},
   "source": [
    "### Reformat the data ###\n",
    "\n",
    "Each row will contain the data for one day for one user. Each variable will have its own column."
   ]
  },
  {
   "cell_type": "code",
   "execution_count": null,
   "id": "d97d9fd8",
   "metadata": {},
   "outputs": [],
   "source": [
    "users = df_phone['id'].unique()\n",
    "all_variables = df_phone['variable'].unique()\n",
    "mean_variables = ['mood', 'circumplex.arousal', 'circumplex.valence', 'activity']\n",
    "data = []\n",
    "for user in users:\n",
    "    df_subset = df_phone[df_phone['id'] == user]\n",
    "    dates = df_subset['time'].dt.date.unique()\n",
    "    for date in dates:\n",
    "        df_subsubset = df_subset[df_subset['time'].dt.date == date]\n",
    "        variables = df_subsubset['variable'].unique()\n",
    "        if 'mood' not in variables:\n",
    "            continue\n",
    "        features = [user, date]\n",
    "        for variable in all_variables:\n",
    "            if variable not in variables:\n",
    "                features.append(0)\n",
    "            else:        \n",
    "                df_subsubsubset = df_subsubset[df_subsubset['variable'] == variable]\n",
    "                if variable in mean_variables:\n",
    "                    feature = df_subsubsubset['value'].mean()\n",
    "                else:\n",
    "                    feature = df_subsubsubset['value'].sum()\n",
    "                features.append(feature)\n",
    "        data.append(features)\n",
    "\n",
    "column_names = ['id', 'date']\n",
    "column_names.extend(all_variables)\n",
    "\n",
    "df_reformatted = pd.DataFrame(data, columns=column_names)"
   ]
  },
  {
   "cell_type": "code",
   "execution_count": null,
   "id": "d6ca1a97",
   "metadata": {},
   "outputs": [],
   "source": [
    "print(len(df_reformatted))\n",
    "df_reformatted.describe()"
   ]
  },
  {
   "cell_type": "code",
   "execution_count": null,
   "id": "2a5173e6",
   "metadata": {},
   "outputs": [],
   "source": [
    "df_reformatted.to_csv('data/data_reformatted.csv', index=False)"
   ]
  },
  {
   "cell_type": "markdown",
   "id": "9a06bcab",
   "metadata": {},
   "source": [
    "### Split data ###\n",
    "\n",
    "There are 27 users and we will use a 70-10-20 split, i.e., 19 users for training, 3 for validation and 5 for testing.\n",
    "We will also split the data we have for each user into sequences of 5 days."
   ]
  },
  {
   "cell_type": "code",
   "execution_count": null,
   "id": "516f943a",
   "metadata": {},
   "outputs": [],
   "source": [
    "users = df_reformatted['id'].unique()\n",
    "train_users = users[:19]\n",
    "val_users = users[19:22]\n",
    "test_users = users[22:]\n",
    "\n",
    "df_train = df_reformatted[df_reformatted['id'].isin(train_users)]\n",
    "df_val = df_reformatted[df_reformatted['id'].isin(val_users)]\n",
    "df_test = df_reformatted[df_reformatted['id'].isin(test_users)]"
   ]
  },
  {
   "cell_type": "code",
   "execution_count": null,
   "id": "3827a646",
   "metadata": {},
   "outputs": [],
   "source": [
    "df_train.to_csv('data/dataset_train.csv', index=False)\n",
    "df_val.to_csv('data/dataset_val.csv', index=False)\n",
    "df_test.to_csv('data/dataset_test.csv', index=False)"
   ]
  },
  {
   "cell_type": "markdown",
   "id": "a1128002",
   "metadata": {},
   "source": [
    "### Aggregate data for SVM ###"
   ]
  },
  {
   "cell_type": "code",
   "execution_count": null,
   "id": "17d5defb",
   "metadata": {},
   "outputs": [],
   "source": [
    "def get_x(df):\n",
    "    values = df.to_numpy(dtype=float)\n",
    "    features = values.mean(axis=0)\n",
    "    return features\n",
    "\n",
    "def get_y(df):\n",
    "    value = df['mood']\n",
    "    target = round(value)\n",
    "    return target\n",
    "\n",
    "def get_x_y(df, window_size):\n",
    "    xs = []\n",
    "    ys = []\n",
    "    num_rows = len(df)\n",
    "    i = 0\n",
    "    j = window_size\n",
    "    k = j + 1\n",
    "    while k < num_rows:\n",
    "        x = get_x(df[i:j])\n",
    "        y = get_y(df.iloc[k])\n",
    "        xs.append(x)\n",
    "        ys.append(y)\n",
    "        i += 1\n",
    "        j += 1\n",
    "        k += 1\n",
    "    return xs, ys\n",
    "\n",
    "def aggregate_df(df, window_size, filename):\n",
    "    xs = []\n",
    "    ys = []\n",
    "    users = df['id'].unique()\n",
    "    for user in users:\n",
    "        df_user = df[df['id'] == user]\n",
    "        df_user = df_user.drop(['id', 'date'], axis=1)\n",
    "        xs_user, ys_user = get_x_y(df_user, window_size)\n",
    "        xs.extend(xs_user)\n",
    "        ys.extend(ys_user)\n",
    "    df_x = pd.DataFrame(xs)\n",
    "    df_y = pd.DataFrame(ys)\n",
    "    df_x.to_csv('data/x{0}'.format(filename), header=False, index=False)\n",
    "    df_y.to_csv('data/y{0}'.format(filename), header=False, index=False)        "
   ]
  },
  {
   "cell_type": "code",
   "execution_count": null,
   "id": "5a0e2d71",
   "metadata": {},
   "outputs": [],
   "source": [
    "aggregate_df(df_train, 2, '_train_2.csv')\n",
    "aggregate_df(df_train, 3, '_train_3.csv')\n",
    "aggregate_df(df_train, 5, '_train_5.csv')\n",
    "\n",
    "aggregate_df(df_val, 2, '_val_2.csv')\n",
    "aggregate_df(df_val, 3, '_val_3.csv')\n",
    "aggregate_df(df_val, 5, '_val_5.csv')\n",
    "\n",
    "aggregate_df(df_test, 2, '_test_2.csv')\n",
    "aggregate_df(df_test, 3, '_test_3.csv')\n",
    "aggregate_df(df_test, 5, '_test_5.csv')"
   ]
  }
 ],
 "metadata": {
  "kernelspec": {
   "display_name": "Python 3",
   "language": "python",
   "name": "python3"
  },
  "language_info": {
   "codemirror_mode": {
    "name": "ipython",
    "version": 3
   },
   "file_extension": ".py",
   "mimetype": "text/x-python",
   "name": "python",
   "nbconvert_exporter": "python",
   "pygments_lexer": "ipython3",
   "version": "3.8.8"
  }
 },
 "nbformat": 4,
 "nbformat_minor": 5
}
