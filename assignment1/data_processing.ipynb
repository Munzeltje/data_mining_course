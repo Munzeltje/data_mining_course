{
 "cells": [
  {
   "cell_type": "markdown",
   "id": "6cd947bd",
   "metadata": {},
   "source": [
    "### Imports ###"
   ]
  },
  {
   "cell_type": "code",
   "execution_count": null,
   "id": "790928c7",
   "metadata": {},
   "outputs": [],
   "source": [
    "import itertools\n",
    "import pandas as pd"
   ]
  },
  {
   "cell_type": "markdown",
   "id": "41f11ccb",
   "metadata": {},
   "source": [
    "### Read data ###"
   ]
  },
  {
   "cell_type": "code",
   "execution_count": null,
   "id": "3dfea063",
   "metadata": {},
   "outputs": [],
   "source": [
    "df_phone = pd.read_csv('dataset_mood_smartphone.csv', usecols=['id', 'time', 'variable', 'value'])\n",
    "df_phone['time'] = pd.to_datetime(df_phone['time'])\n",
    "print(df_phone.dtypes)"
   ]
  },
  {
   "cell_type": "markdown",
   "id": "f19e46be",
   "metadata": {},
   "source": [
    "### Remove rows with NaN values ###"
   ]
  },
  {
   "cell_type": "code",
   "execution_count": null,
   "id": "995bba1c",
   "metadata": {},
   "outputs": [],
   "source": [
    "nan_stuff = df_phone[df_phone.isna().any(axis=1)]\n",
    "nan_stuff.info()"
   ]
  },
  {
   "cell_type": "code",
   "execution_count": null,
   "id": "3df271c3",
   "metadata": {},
   "outputs": [],
   "source": [
    "print(\"The length of the entire dataframe:\\t{0}\\n\".format(len(df_phone)))\n",
    "print(\"The number of rows with NaN values:\\t{0}\\n\".format(len(nan_stuff)))\n",
    "\n",
    "df_phone = df_phone[df_phone['value'].notna()]\n",
    "\n",
    "print(\"The length of the cleaned dataframe:\\t{0}\".format(len(df_phone)))"
   ]
  },
  {
   "cell_type": "markdown",
   "id": "aebe296c",
   "metadata": {},
   "source": [
    "### Get some statistics ###"
   ]
  },
  {
   "cell_type": "code",
   "execution_count": null,
   "id": "f7df6740",
   "metadata": {},
   "outputs": [],
   "source": [
    "df_phone.info()"
   ]
  },
  {
   "cell_type": "code",
   "execution_count": null,
   "id": "b663a9fc",
   "metadata": {},
   "outputs": [],
   "source": [
    "df_phone.head(20)"
   ]
  },
  {
   "cell_type": "code",
   "execution_count": null,
   "id": "75efad86",
   "metadata": {},
   "outputs": [],
   "source": [
    "df_phone.describe(datetime_is_numeric=True, include='all')"
   ]
  },
  {
   "cell_type": "markdown",
   "id": "ead98c44",
   "metadata": {},
   "source": [
    "### Save cleaned data ###"
   ]
  },
  {
   "cell_type": "code",
   "execution_count": null,
   "id": "fa35f2a8",
   "metadata": {},
   "outputs": [],
   "source": [
    "df_phone.to_csv('dataset_mood_smartphone_clean.csv')"
   ]
  },
  {
   "cell_type": "markdown",
   "id": "5bfc78b1",
   "metadata": {},
   "source": [
    "### Analyze specific variables ###\n",
    "\n",
    "<ul>\n",
    "    <li> Mood is usually around 7/in the range [6, 8]. \n",
    "    <li> Arousal pretty evenly distributed, centered close to 0, mostly [-1, 1]\n",
    "    <li> Valence a little higher than arousal, so tends to be positive, but std is lower than for arousal.\n",
    "    <li> Activity score tends to be low.\n",
    "    <li> People use their phone mostly for communication, entertainment, office, social and other.\n",
    "    <li> Screen time and use of communication, games, office, social, entertainment and built-in apps hava a high std and some outliers who score far higher than the majority.\n",
    "    <li> The highest std and most extreme outliers seem to occur in the use of office apps.\n",
    "</ul>    "
   ]
  },
  {
   "cell_type": "code",
   "execution_count": null,
   "id": "d0ba6ade",
   "metadata": {
    "tags": []
   },
   "outputs": [],
   "source": [
    "variables = list(df_phone['variable'].unique())\n",
    "for variable in variables:\n",
    "    df_phone_variable = df_phone[df_phone['variable'] == variable]\n",
    "    print(\"Summary for {0}:\\n\\n{1}\\n\\n\\n\".format(variable, df_phone_variable.describe()))"
   ]
  },
  {
   "cell_type": "markdown",
   "id": "2f812c74",
   "metadata": {},
   "source": [
    "### Split data ###\n",
    "\n",
    "There are 27 users and we will use a 70-10-20 split, i.e., 19 users for training, 3 for validation and 5 for testing.\n",
    "We will also split the data we have for each user into sequences of 5 days."
   ]
  },
  {
   "cell_type": "code",
   "execution_count": null,
   "id": "78966c4c",
   "metadata": {},
   "outputs": [],
   "source": [
    "users = df_phone['id'].unique()\n",
    "train_users = users[:19]\n",
    "val_users = users[19:22]\n",
    "test_users = users[22:]\n",
    "\n",
    "df_train = df_phone[df_phone['id'].isin(train_users)]\n",
    "df_val = df_phone[df_phone['id'].isin(val_users)]\n",
    "df_test = df_phone[df_phone['id'].isin(test_users)]"
   ]
  }
 ],
 "metadata": {
  "kernelspec": {
   "display_name": "Python 3",
   "language": "python",
   "name": "python3"
  },
  "language_info": {
   "codemirror_mode": {
    "name": "ipython",
    "version": 3
   },
   "file_extension": ".py",
   "mimetype": "text/x-python",
   "name": "python",
   "nbconvert_exporter": "python",
   "pygments_lexer": "ipython3",
   "version": "3.8.8"
  }
 },
 "nbformat": 4,
 "nbformat_minor": 5
}
