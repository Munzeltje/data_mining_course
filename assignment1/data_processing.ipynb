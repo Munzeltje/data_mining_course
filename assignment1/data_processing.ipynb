{
 "cells": [
  {
   "cell_type": "markdown",
   "id": "59681402",
   "metadata": {},
   "source": [
    "### Imports ###"
   ]
  },
  {
   "cell_type": "code",
   "execution_count": null,
   "id": "09361511",
   "metadata": {},
   "outputs": [],
   "source": [
    "import pandas as pd"
   ]
  },
  {
   "cell_type": "markdown",
   "id": "002d374c",
   "metadata": {},
   "source": [
    "### Read data ###"
   ]
  },
  {
   "cell_type": "code",
   "execution_count": null,
   "id": "93e17bfd",
   "metadata": {},
   "outputs": [],
   "source": [
    "df_phone = pd.read_csv('dataset_mood_smartphone.csv', usecols=['id', 'time', 'variable', 'value'])\n",
    "df_phone['time'] = pd.to_datetime(df_phone['time'])\n",
    "print(df_phone.dtypes)"
   ]
  },
  {
   "cell_type": "markdown",
   "id": "dcdce588",
   "metadata": {},
   "source": [
    "### Remove rows with NaN values ###"
   ]
  },
  {
   "cell_type": "code",
   "execution_count": null,
   "id": "b5b20a19",
   "metadata": {},
   "outputs": [],
   "source": [
    "nan_stuff = df_phone[df_phone.isna().any(axis=1)]\n",
    "nan_stuff.info()"
   ]
  },
  {
   "cell_type": "code",
   "execution_count": null,
   "id": "da84005a",
   "metadata": {},
   "outputs": [],
   "source": [
    "print(\"The length of the entire dataframe:\\t{0}\\n\".format(len(df_phone)))\n",
    "print(\"The number of rows with NaN values:\\t{0}\\n\".format(len(nan_stuff)))\n",
    "\n",
    "df_phone = df_phone[df_phone['value'].notna()]\n",
    "\n",
    "print(\"The length of the cleaned dataframe:\\t{0}\".format(len(df_phone)))"
   ]
  },
  {
   "cell_type": "markdown",
   "id": "1a0afaad",
   "metadata": {},
   "source": [
    "### Get some statistics ###"
   ]
  },
  {
   "cell_type": "code",
   "execution_count": null,
   "id": "e52fae24",
   "metadata": {},
   "outputs": [],
   "source": [
    "df_phone.info()"
   ]
  },
  {
   "cell_type": "code",
   "execution_count": null,
   "id": "17f9ee4b",
   "metadata": {},
   "outputs": [],
   "source": [
    "df_phone.head(20)"
   ]
  },
  {
   "cell_type": "code",
   "execution_count": null,
   "id": "52503967",
   "metadata": {},
   "outputs": [],
   "source": [
    "df_phone.describe(datetime_is_numeric=True, include='all')"
   ]
  },
  {
   "cell_type": "markdown",
   "id": "893eb38e",
   "metadata": {},
   "source": [
    "### Save cleaned data ###"
   ]
  },
  {
   "cell_type": "code",
   "execution_count": null,
   "id": "ab191dd1",
   "metadata": {},
   "outputs": [],
   "source": [
    "df_phone.to_csv('dataset_mood_smartphone_clean.csv')"
   ]
  },
  {
   "cell_type": "markdown",
   "id": "f66053da",
   "metadata": {},
   "source": [
    "### Analyze specific variables ###\n",
    "\n",
    "<ul>\n",
    "    <li> Mood is usually around 7/in the range [6, 8]. \n",
    "    <li> Arousal pretty evenly distributed, centered close to 0, mostly [-1, 1]\n",
    "    <li> Valence a little higher than arousal, so tends to be positive, but std is lower than for arousal.\n",
    "    <li> Activity score tends to be low.\n",
    "    <li> People use their phone mostly for communication, entertainment, office, social and other.\n",
    "    <li> Screen time and use of communication, games, office, social, entertainment and built-in apps hava a high std and some outliers who score far higher than the majority.\n",
    "    <li> The highest std and most extreme outliers seem to occur in the use of office apps.\n",
    "</ul>    "
   ]
  },
  {
   "cell_type": "code",
   "execution_count": null,
   "id": "d727e2af",
   "metadata": {
    "tags": []
   },
   "outputs": [],
   "source": [
    "variables = list(df_phone['variable'].unique())\n",
    "for variable in variables:\n",
    "    df_phone_variable = df_phone[df_phone['variable'] == variable]\n",
    "    print(\"Summary for {0}:\\n\\n{1}\\n\\n\\n\".format(variable, df_phone_variable.describe()))"
   ]
  }
 ],
 "metadata": {
  "kernelspec": {
   "display_name": "Python 3",
   "language": "python",
   "name": "python3"
  },
  "language_info": {
   "codemirror_mode": {
    "name": "ipython",
    "version": 3
   },
   "file_extension": ".py",
   "mimetype": "text/x-python",
   "name": "python",
   "nbconvert_exporter": "python",
   "pygments_lexer": "ipython3",
   "version": "3.8.8"
  }
 },
 "nbformat": 4,
 "nbformat_minor": 5
}
